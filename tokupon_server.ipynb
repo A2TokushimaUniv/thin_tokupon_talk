{
 "cells": [
  {
   "cell_type": "markdown",
   "metadata": {
    "id": "bVEEFVk0MTf1"
   },
   "source": [
    "# 1. スクレイピング"
   ]
  },
  {
   "cell_type": "code",
   "execution_count": null,
   "metadata": {
    "id": "7SkPBmWaTCCA"
   },
   "outputs": [],
   "source": [
    "import locale\n",
    "\n",
    "locale.getpreferredencoding = lambda: \"UTF-8\""
   ]
  },
  {
   "cell_type": "code",
   "execution_count": null,
   "metadata": {
    "id": "imerTQhBhDRF"
   },
   "outputs": [],
   "source": [
    "!pip install langchain"
   ]
  },
  {
   "cell_type": "code",
   "execution_count": null,
   "metadata": {
    "colab": {
     "base_uri": "https://localhost:8080/"
    },
    "id": "WoVCImYWTIuZ",
    "outputId": "c8addca1-68f9-4757-c309-f02529cda0b2"
   },
   "outputs": [],
   "source": [
    "!pip install trafilatura youtube_transcript_api"
   ]
  },
  {
   "cell_type": "markdown",
   "metadata": {
    "id": "jSId2bSYNh1Z"
   },
   "source": [
    "## 徳島大学のWebページ\n",
    "trafilaturaを使う\n",
    "\n"
   ]
  },
  {
   "cell_type": "code",
   "execution_count": null,
   "metadata": {
    "colab": {
     "base_uri": "https://localhost:8080/"
    },
    "id": "ireB1l_keq9W",
    "outputId": "88ab5c73-fc52-455c-f150-17843c733b7c"
   },
   "outputs": [],
   "source": [
    "from trafilatura import fetch_url, extract\n",
    "\n",
    "web_urls = [\n",
    "    \"https://ja.wikipedia.org/wiki/%E5%BE%B3%E5%B3%B6%E5%A4%A7%E5%AD%A6\",\n",
    "    \"https://www.tokushima-u.ac.jp/admission/seikatsu/life.html\",\n",
    "]\n",
    "\n",
    "web_docs = \"\"\n",
    "for url in web_urls:\n",
    "    doc = fetch_url(url)\n",
    "    web_docs += extract(doc)\n",
    "print(web_docs[:100])"
   ]
  },
  {
   "cell_type": "markdown",
   "metadata": {
    "id": "_WmmQXUnfEoF"
   },
   "source": [
    "### 補足：Wikipedia APIの利用"
   ]
  },
  {
   "cell_type": "code",
   "execution_count": null,
   "metadata": {
    "colab": {
     "base_uri": "https://localhost:8080/"
    },
    "id": "DX3QamNwfJtl",
    "outputId": "7a1c4912-983d-434f-b8cf-fc0344925817"
   },
   "outputs": [],
   "source": [
    "import requests\n",
    "\n",
    "# 検索するキーワード\n",
    "search_keyword = \"徳島大学\"\n",
    "\n",
    "# API URL\n",
    "api_url = \"https://ja.wikipedia.org/w/api.php\"\n",
    "\n",
    "# API定義\n",
    "params = {\n",
    "    \"action\": \"query\",\n",
    "    \"format\": \"json\",\n",
    "    \"titles\": search_keyword,\n",
    "    \"prop\": \"extracts\",\n",
    "    \"explaintext\": True,\n",
    "}\n",
    "\n",
    "response = requests.get(api_url, params=params)\n",
    "data = response.json()\n",
    "\n",
    "# ページの内容を抽出\n",
    "page_id = list(data[\"query\"][\"pages\"].keys())[0]  # ページのユニーク識別子を取得\n",
    "page_content = data[\"query\"][\"pages\"][page_id].get(\"extract\", \"no doc\")\n",
    "\n",
    "print(page_content)"
   ]
  },
  {
   "cell_type": "markdown",
   "metadata": {
    "id": "JFwATWVwNlT0"
   },
   "source": [
    "## 徳島大学のYouTubeの字幕"
   ]
  },
  {
   "cell_type": "code",
   "execution_count": null,
   "metadata": {
    "colab": {
     "base_uri": "https://localhost:8080/"
    },
    "id": "KB17aa78eh34",
    "outputId": "1a216762-782c-48f4-9177-e518ac480406"
   },
   "outputs": [],
   "source": [
    "from langchain.document_loaders import YoutubeLoader\n",
    "\n",
    "# 徳島大学のYouTube動画\n",
    "youtube_urls = [\n",
    "    \"https://youtu.be/IKAA3rKNvNQ?si=ClOsDZCX50UHVmZM\",\n",
    "    \"https://youtu.be/AyZm8iuDGgM?si=BTUF_wYzt44jxjDB\",\n",
    "]\n",
    "\n",
    "youtube_docs = \"\"\n",
    "for url in youtube_urls:\n",
    "    loader = YoutubeLoader.from_youtube_url(youtube_url=url, language=\"ja\")\n",
    "    docs = loader.load()\n",
    "    if docs:\n",
    "        youtube_docs += docs[0].page_content\n",
    "    else:\n",
    "        print(\"no docs\")\n",
    "print(youtube_docs[:100])"
   ]
  },
  {
   "cell_type": "markdown",
   "metadata": {
    "id": "yahHptfTeWyN"
   },
   "source": [
    "### 補足：YouTube APIの利用\n"
   ]
  },
  {
   "cell_type": "code",
   "execution_count": null,
   "metadata": {
    "id": "oqvLy7AFfnWv"
   },
   "outputs": [],
   "source": [
    "!pip install google-api-python-client"
   ]
  },
  {
   "cell_type": "code",
   "execution_count": null,
   "metadata": {
    "colab": {
     "base_uri": "https://localhost:8080/"
    },
    "id": "HSB6W8P1fZNh",
    "outputId": "c17d5c79-cb5d-45d8-9bc4-da91b94f0463"
   },
   "outputs": [],
   "source": [
    "import os\n",
    "from googleapiclient.discovery import build\n",
    "from langchain.document_loaders import YoutubeLoader\n",
    "import csv\n",
    "\n",
    "# 開発者キーを設定する\n",
    "api_key = \"\"\n",
    "# あなたの開発者キーに置き換えてください\n",
    "\n",
    "youtube = build(\"youtube\", \"v3\", developerKey=api_key)\n",
    "\n",
    "# \"徳島大学\" キーワードを含むビデオの URL を保存するための変数です。\n",
    "youtube_urls = []\n",
    "\n",
    "# 検索\n",
    "search_response = (\n",
    "    youtube.search()\n",
    "    .list(\n",
    "        q=\"徳島大学\",  # キーワー\n",
    "        type=\"video\",\n",
    "        part=\"id\",\n",
    "        maxResults=10,  # 数量\n",
    "        regionCode=\"JP\",  # 地域コードを日本（JP）に指定\n",
    "    )\n",
    "    .execute()\n",
    ")\n",
    "\n",
    "# 検索結果の各ビデオを走査し、ビデオのURLを取得します\"。\n",
    "for search_result in search_response.get(\"items\", []):\n",
    "    video_id = search_result[\"id\"][\"videoId\"]\n",
    "    video_url = f\"https://www.youtube.com/watch?v={video_id}\"\n",
    "    youtube_urls.append(video_url)\n",
    "\n",
    "# 字幕情報を格納するリスト\n",
    "captions_info = []\n",
    "no_docs_count = 0\n",
    "\n",
    "for url in youtube_urls:\n",
    "    loader = YoutubeLoader.from_youtube_url(youtube_url=url, language=\"ja\")\n",
    "    docs = loader.load()\n",
    "    if docs:\n",
    "        # 字幕テキストを取得\n",
    "        youtube_text = docs[0].page_content\n",
    "        # 字幕情報をリストに追加\"\n",
    "        captions_info.append({\"url\": url, \"text\": youtube_text})\n",
    "    else:\n",
    "        print(f\"No docs for URL: {url}\")\n",
    "        no_docs_count += 1\n",
    "\n",
    "# 字幕情報を TSV ファイルに保存\n",
    "tsv_file = \"youtube_text.tsv\"\n",
    "with open(tsv_file, mode=\"w\", newline=\"\", encoding=\"utf-8\") as file:\n",
    "    writer = csv.writer(file, delimiter=\"\\t\", quotechar='\"', quoting=csv.QUOTE_MINIMAL)\n",
    "    #\n",
    "    writer.writerow([\"URL\", \"Text\"])\n",
    "    for caption in captions_info:\n",
    "        writer.writerow([caption[\"url\"], caption[\"text\"]])\n",
    "print(f\"{tsv_file} ファイルに字幕情報が保存されました。\")\n",
    "print(f\"取得データ情報の総数: {len(captions_info)}\")\n",
    "print(f\"字幕のないビデオの総数: {no_docs_count}\")"
   ]
  },
  {
   "cell_type": "markdown",
   "metadata": {
    "id": "NMxdhYVUeySn"
   },
   "source": [
    "## 収集データをtxtファイルにする"
   ]
  },
  {
   "cell_type": "code",
   "execution_count": null,
   "metadata": {
    "id": "pSWCljtYe1pw"
   },
   "outputs": [],
   "source": [
    "database = youtube_docs + web_docs\n",
    "file_name = \"database.txt\"\n",
    "with open(file_name, \"w\", encoding=\"utf-8\") as f:\n",
    "    f.write(database)"
   ]
  },
  {
   "cell_type": "markdown",
   "metadata": {
    "id": "4accPgN-MNTg"
   },
   "source": [
    "# 2. LangChain"
   ]
  },
  {
   "cell_type": "markdown",
   "metadata": {
    "id": "g9G9o8mAf3F0"
   },
   "source": [
    "langchainのデバッグモード"
   ]
  },
  {
   "cell_type": "code",
   "execution_count": null,
   "metadata": {
    "id": "byfUesKfVtWv"
   },
   "outputs": [],
   "source": [
    "import langchain\n",
    "\n",
    "langchain.debug = True"
   ]
  },
  {
   "cell_type": "code",
   "execution_count": null,
   "metadata": {
    "colab": {
     "base_uri": "https://localhost:8080/"
    },
    "id": "qR6mY318kAyT",
    "outputId": "19f04f98-eb12-4e2c-c6fa-63ff546be56f"
   },
   "outputs": [],
   "source": [
    "!pip install langchain tiktoken chromadb sentence-transformers"
   ]
  },
  {
   "cell_type": "code",
   "execution_count": null,
   "metadata": {
    "colab": {
     "base_uri": "https://localhost:8080/"
    },
    "id": "-kQZ8mXGo2TP",
    "outputId": "da1433ff-1d8d-41de-dded-0831fbf63bae"
   },
   "outputs": [],
   "source": [
    "!pip install transformers sentencepiece accelerate bitsandbytes"
   ]
  },
  {
   "cell_type": "markdown",
   "metadata": {
    "id": "feqLLjFenBxn"
   },
   "source": [
    "## ベクトルDB"
   ]
  },
  {
   "cell_type": "code",
   "execution_count": null,
   "metadata": {
    "id": "MEdqyp3JnqTg"
   },
   "outputs": [],
   "source": [
    "from langchain.document_loaders import TextLoader\n",
    "\n",
    "loader = TextLoader(\"database.txt\", encoding=\"utf-8\")\n",
    "documents = loader.load()"
   ]
  },
  {
   "cell_type": "code",
   "execution_count": null,
   "metadata": {
    "colab": {
     "base_uri": "https://localhost:8080/"
    },
    "id": "ixvtmdUPkTnG",
    "outputId": "64d12682-78e2-42af-abdd-76fb35e99e01"
   },
   "outputs": [],
   "source": [
    "# 日本語の句読点に対応したスプリッター\n",
    "# 参考：　https://www.sato-susumu.com/entry/2023/04/30/131338\n",
    "from typing import Any\n",
    "from langchain.text_splitter import (\n",
    "    RecursiveCharacterTextSplitter,\n",
    "    CharacterTextSplitter,\n",
    ")\n",
    "\n",
    "\n",
    "class JapaneseCharacterTextSplitter(RecursiveCharacterTextSplitter):\n",
    "    def __init__(self, **kwargs: Any):\n",
    "        separators = [\"\\n\\n\", \"\\n\", \"。\", \"、\", \" \", \"\"]\n",
    "        super().__init__(separators=separators, **kwargs)\n",
    "\n",
    "\n",
    "text_splitter = JapaneseCharacterTextSplitter(\n",
    "    chunk_size=50,\n",
    "    chunk_overlap=0,\n",
    ")\n",
    "docs = text_splitter.split_documents(documents)\n",
    "print(len(docs))\n",
    "print(docs[:3])"
   ]
  },
  {
   "cell_type": "code",
   "execution_count": null,
   "metadata": {
    "id": "KAsaeBxkkcxN"
   },
   "outputs": [],
   "source": [
    "from langchain.vectorstores import Chroma\n",
    "from langchain.embeddings import HuggingFaceEmbeddings\n",
    "\n",
    "embeddings = HuggingFaceEmbeddings(\n",
    "    model_name=\"oshizo/sbert-jsnli-luke-japanese-base-lite\"\n",
    ")\n",
    "db = Chroma.from_documents(docs, embeddings)\n",
    "\n",
    "# 一番類似するチャンクをいくつロードするかを変数kに設定できる\n",
    "retriever = db.as_retriever(search_kwargs={\"k\": 3})"
   ]
  },
  {
   "cell_type": "markdown",
   "metadata": {
    "id": "igf77ryynF7L"
   },
   "source": [
    "## LLMの設定"
   ]
  },
  {
   "cell_type": "code",
   "execution_count": null,
   "metadata": {
    "colab": {
     "base_uri": "https://localhost:8080/",
     "height": 183,
     "referenced_widgets": [
      "8e887d856a964da7883be9e4a59e43ce",
      "895b0416699a45f6b327f8a786ab7aa2",
      "d574faf4d0a84441a405973374b40b44",
      "65810ad6a9f44279a96cb8725b684e59",
      "11bc68d88aed4b008895ecaa56e24ace",
      "e3dde11694f3482e9dcecb428ec768f3",
      "9a904df55bb040b790f64b6a819e453d",
      "efbaaa5fb86a4a5696a9831a8729fc17",
      "0200907b89844da7b286eb492686d017",
      "0b907f2d5f954448a509f4c163c6fb31",
      "8382309bb68048429dbfd346965da3f1",
      "0ab55ccfe3d64302b160ae7113e7e106",
      "9668e31ba3834510a2dd7a72a541d8cd",
      "40a547d95b144188a0356afed7dc0004",
      "9d1f09e352244a128d613fe7a3e63d8d",
      "3f66c9dfa3f34630953aff08432733ea",
      "b16a50c87b574642aa17237cc1267839",
      "9bb5d5b81091466d9185a63a972d70b5",
      "7b20fecf00794c2a906968a0ed70b23b",
      "8a19e7cbe28b43518bd792b1589a19f5",
      "f75333ea05d643f08334d70bd67e407a",
      "f74c43c415a143bf9d0eb1451442c02c",
      "9b1a8c7c9bbb4ff08d10db103e2a5645",
      "9faf541cdea34a0ca60dad23a7e86a16",
      "0bc9c86db25b4d4784551e4399be8af9",
      "d51ce0b06814441796970e6a265a250b",
      "863cef6bd58c4176b098bf0a47d4c46a",
      "361aeeb73ce546deba41b2c707449c81",
      "ed571f81390b4db6a234a869792d0242",
      "964fed86a92f42bd95520365d826c5e0",
      "a6f133550cf24148b56c02bb05fa2f6a",
      "53db20b006214e55934d1625fe94a022",
      "1d261cd4e996425dacbe1dd74cce37b5",
      "26415064625c41e4ba27884de74ad3c1",
      "991f4dd7cedd4bf3b59125fcd6fdd3bc",
      "f232d5bf63af4f71859d2a01dc3bda13",
      "73638b95aca9413a95f1a1e3a81d554a",
      "3ded4932290f471095611de7b7949ac5",
      "d35ca51590124a1693cee9184070c161",
      "ba1d893935924669989ec5f29c577c8b",
      "c4e27245d47a438db12f4f6059e36711",
      "490ea8eeea59494286d934e6be94097f",
      "b6a678163010435eaf0ef040b7e8c0d4",
      "23c50309f3e8406e8a1acfc0e7481725"
     ]
    },
    "id": "bSRheEiPlmF4",
    "outputId": "a66d3a83-4882-4420-e180-b14b62913c9c"
   },
   "outputs": [],
   "source": [
    "import torch\n",
    "from transformers import AutoTokenizer, AutoModelForCausalLM\n",
    "\n",
    "# トークナイザーとモデルの準備\n",
    "tokenizer = AutoTokenizer.from_pretrained(\n",
    "    \"rinna/japanese-gpt-neox-3.6b-instruction-ppo\", use_fast=False\n",
    ")\n",
    "model = AutoModelForCausalLM.from_pretrained(\n",
    "    \"rinna/japanese-gpt-neox-3.6b-instruction-ppo\",\n",
    "    torch_dtype=torch.bfloat16,\n",
    "    device_map=\"auto\",\n",
    ")"
   ]
  },
  {
   "cell_type": "code",
   "execution_count": null,
   "metadata": {
    "id": "qW3NqHHXo9zq"
   },
   "outputs": [],
   "source": [
    "from langchain.llms import HuggingFacePipeline\n",
    "from transformers import pipeline\n",
    "\n",
    "# パイプラインの準備\n",
    "pipe = pipeline(\n",
    "    \"text-generation\",\n",
    "    model=model,\n",
    "    tokenizer=tokenizer,\n",
    "    pad_token_id=tokenizer.pad_token_id,\n",
    "    bos_token_id=tokenizer.bos_token_id,\n",
    "    eos_token_id=tokenizer.eos_token_id,\n",
    "    max_length=512,\n",
    "    do_sample=True,\n",
    "    top_p=0.7,\n",
    "    top_k=10,\n",
    "    temperature=1.5,\n",
    ")\n",
    "llm = HuggingFacePipeline(pipeline=pipe)"
   ]
  },
  {
   "cell_type": "markdown",
   "metadata": {
    "id": "jBbRMsInMgs8"
   },
   "source": [
    "## プロンプト"
   ]
  },
  {
   "cell_type": "code",
   "execution_count": null,
   "metadata": {
    "colab": {
     "base_uri": "https://localhost:8080/"
    },
    "id": "iFf0a8zFeYpl",
    "outputId": "deac0dd6-b195-4482-eca3-b175aa03ed3f"
   },
   "outputs": [],
   "source": [
    "from langchain.prompts import PromptTemplate\n",
    "\n",
    "# とくぽんのページからプロンプトを作成\n",
    "# 参考：https://www.tokushima-u.ac.jp/about/profile/univ_mascot/\n",
    "prompt = [\n",
    "    {\"speaker\": \"ユーザー\", \"text\": \"あなたは誰ですか？\"},\n",
    "    {\"speaker\": \"システム\", \"text\": \"ぼくの名前は「とくぽん」だよ。徳島大学で生まれ、住み着いているタヌキだよ！\"},\n",
    "    {\"speaker\": \"ユーザー\", \"text\": \"あなたはどのような口調で話しますか？\"},\n",
    "    {\"speaker\": \"システム\", \"text\": \"ぼくは常に明るい口調で話すよ！\"},\n",
    "    {\"speaker\": \"ユーザー\", \"text\": \"あなたのどのような性格ですか？\"},\n",
    "    {\"speaker\": \"システム\", \"text\": \"ぼくは親切で、明るく親しみやすいよ。チャレンジ精神が旺盛だけど、たまに失敗しちゃうよ。\"},\n",
    "    {\"speaker\": \"ユーザー\", \"text\": \"あなたの普段の生活について教えてください。\"},\n",
    "    {\"speaker\": \"システム\", \"text\": \"ぼくは徳島大学が大好きで、学生と一緒に勉学に励む毎日を送っているよ。\"},\n",
    "    {\"speaker\": \"ユーザー\", \"text\": \"あなたの誕生日はいつですか？\"},\n",
    "    {\"speaker\": \"システム\", \"text\": \"ぼくの誕生日は１１月２日で、冬生まれだよ。\"},\n",
    "    {\"speaker\": \"ユーザー\", \"text\": \"あなたのミッションを教えてください。\"},\n",
    "    {\"speaker\": \"システム\", \"text\": \"徳島大学とともに人類の問題を解決することをミッションとし、これからの未来に向かって力強く歩んでいくよ!\"},\n",
    "    {\"speaker\": \"ユーザー\", \"text\": \"とくぽんはなぜタヌキなの？\"},\n",
    "    {\"speaker\": \"システム\", \"text\": \"徳島はタヌキで有名な地なので、ぼくのモデルがタヌキになったよ！\"},\n",
    "    {\n",
    "        \"speaker\": \"ユーザー\",\n",
    "        \"text\": \"参考情報をもとに、ユーザーからの質問にできるだけ正確に答えてください。\\n\\n参考情報： {context}\\n\\nユーザーからの質問は次のとおりです。\\n{question}\\n\\n\",\n",
    "    },\n",
    "]\n",
    "prompt = [f\"{uttr['speaker']}: {uttr['text']}\" for uttr in prompt]\n",
    "prompt = \"<NL>\".join(prompt)\n",
    "prompt = prompt + \"<NL>\" + \"システム: \"\n",
    "prompt = prompt.replace(\"\\n\", \"<NL>\")\n",
    "print(prompt)\n",
    "\n",
    "\n",
    "PROMPT = PromptTemplate(\n",
    "    template=prompt, input_variables=[\"context\", \"question\"], template_format=\"f-string\"\n",
    ")\n",
    "chain_type_kwargs = {\"prompt\": PROMPT}"
   ]
  },
  {
   "cell_type": "markdown",
   "metadata": {
    "id": "EQmWQOq3Mj3g"
   },
   "source": [
    "## RAG"
   ]
  },
  {
   "cell_type": "code",
   "execution_count": null,
   "metadata": {
    "id": "g3U8YWbIwiGM"
   },
   "outputs": [],
   "source": [
    "from langchain.chains import RetrievalQA\n",
    "\n",
    "qa = RetrievalQA.from_chain_type(\n",
    "    llm=llm,  # 使用するLLM\n",
    "    retriever=retriever,  # 使用するretreiver\n",
    "    chain_type=\"stuff\",\n",
    "    return_source_documents=True,  # 回答のもとになったデータも返す\n",
    "    chain_type_kwargs=chain_type_kwargs,\n",
    "    verbose=True,\n",
    ")"
   ]
  },
  {
   "cell_type": "code",
   "execution_count": null,
   "metadata": {
    "colab": {
     "base_uri": "https://localhost:8080/"
    },
    "id": "5JJvt-Uuwrj6",
    "outputId": "15bd8de6-f07d-440a-b44a-3fada2b9f64e"
   },
   "outputs": [],
   "source": [
    "result = qa(\"徳島大学はどこにありますか？\")\n",
    "print(\"回答:\", result[\"result\"])\n",
    "print(\"=\" * 10)\n",
    "print(\"ソース:\", result[\"source_documents\"])"
   ]
  },
  {
   "cell_type": "markdown",
   "metadata": {
    "id": "v4XqmfHiMzZR"
   },
   "source": [
    "# 3. ngrokで公開"
   ]
  },
  {
   "cell_type": "markdown",
   "metadata": {
    "id": "vRQQb-w_RM4b"
   },
   "source": [
    "ngrokで外部にURLを公開できるようにする"
   ]
  },
  {
   "cell_type": "code",
   "execution_count": null,
   "metadata": {
    "colab": {
     "base_uri": "https://localhost:8080/"
    },
    "id": "7IvvgzcUM5ez",
    "outputId": "25200282-a751-4641-e106-fef897d59a4c"
   },
   "outputs": [],
   "source": [
    "!wget https://bin.equinox.io/c/4VmDzA7iaHb/ngrok-stable-linux-amd64.tgz\n",
    "!tar -xvf /content/ngrok-stable-linux-amd64.tgz\n",
    "!pip install flask -q\n",
    "!pip install flask-ngrok -q\n",
    "!pip install flask-cors -U"
   ]
  },
  {
   "cell_type": "markdown",
   "metadata": {
    "id": "7NnEAKqdRIvo"
   },
   "source": [
    "ngrokに登録してトークンをもらう必要あり\n",
    "[サインアップ]( https://dashboard.ngrok.com/user/signup)"
   ]
  },
  {
   "cell_type": "code",
   "execution_count": null,
   "metadata": {
    "colab": {
     "base_uri": "https://localhost:8080/"
    },
    "id": "X31UaG-uM89b",
    "outputId": "36ec102c-279c-4ba5-e3ca-4946bc523c62"
   },
   "outputs": [],
   "source": [
    "# 各自のトークンを設定する\n",
    "!./ngrok authtoken your_token"
   ]
  },
  {
   "cell_type": "code",
   "execution_count": null,
   "metadata": {
    "colab": {
     "base_uri": "https://localhost:8080/"
    },
    "id": "Sy6TrtNkNHd7",
    "outputId": "eff20cd5-adbd-4441-eff6-319a9aac7f51"
   },
   "outputs": [],
   "source": [
    "from flask_ngrok import run_with_ngrok\n",
    "from flask import Flask, request\n",
    "from flask_cors import CORS\n",
    "\n",
    "\n",
    "def exists(v):\n",
    "    if v is None:\n",
    "        return False\n",
    "    return True\n",
    "\n",
    "\n",
    "app = Flask(__name__)\n",
    "CORS(app)\n",
    "\n",
    "run_with_ngrok(app)\n",
    "\n",
    "\n",
    "@app.route(\"/\")\n",
    "def home():\n",
    "    return \"hello flask\"\n",
    "\n",
    "\n",
    "@app.route(\"/gen\")\n",
    "def gen():\n",
    "    text = request.args.get(\"text\")\n",
    "    print(text)\n",
    "\n",
    "    # RAGで回答生成\n",
    "    gen_text = qa(text)\n",
    "    answer = gen_text[\"result\"].replace(\"<NL>\", \"\\n\")\n",
    "    source_documents = gen_text[\"source_documents\"]\n",
    "    print(f\"回答： {answer}\")\n",
    "    print(\"=\" * 10)\n",
    "    print(f\"ソース： {source_documents}\")\n",
    "    return answer\n",
    "\n",
    "\n",
    "app.run()"
   ]
  },
  {
   "cell_type": "markdown",
   "metadata": {
    "id": "clUSTrCGNIJG"
   },
   "source": [
    "# Chat UI\n",
    "上記のngrokのURLの`http://`以降を、chat uiの`index.js`にある`API_HOME`に設定する"
   ]
  }
 ],
 "metadata": {
  "accelerator": "GPU",
  "colab": {
   "gpuType": "V100",
   "machine_shape": "hm",
   "provenance": []
  },
  "kernelspec": {
   "display_name": "Python 3",
   "name": "python3"
  },
  "language_info": {
   "name": "python"
  },
  "widgets": {
   "application/vnd.jupyter.widget-state+json": {
    "0200907b89844da7b286eb492686d017": {
     "model_module": "@jupyter-widgets/controls",
     "model_module_version": "1.5.0",
     "model_name": "ProgressStyleModel",
     "state": {
      "_model_module": "@jupyter-widgets/controls",
      "_model_module_version": "1.5.0",
      "_model_name": "ProgressStyleModel",
      "_view_count": null,
      "_view_module": "@jupyter-widgets/base",
      "_view_module_version": "1.2.0",
      "_view_name": "StyleView",
      "bar_color": null,
      "description_width": ""
     }
    },
    "0ab55ccfe3d64302b160ae7113e7e106": {
     "model_module": "@jupyter-widgets/controls",
     "model_module_version": "1.5.0",
     "model_name": "HBoxModel",
     "state": {
      "_dom_classes": [],
      "_model_module": "@jupyter-widgets/controls",
      "_model_module_version": "1.5.0",
      "_model_name": "HBoxModel",
      "_view_count": null,
      "_view_module": "@jupyter-widgets/controls",
      "_view_module_version": "1.5.0",
      "_view_name": "HBoxView",
      "box_style": "",
      "children": [
       "IPY_MODEL_9668e31ba3834510a2dd7a72a541d8cd",
       "IPY_MODEL_40a547d95b144188a0356afed7dc0004",
       "IPY_MODEL_9d1f09e352244a128d613fe7a3e63d8d"
      ],
      "layout": "IPY_MODEL_3f66c9dfa3f34630953aff08432733ea"
     }
    },
    "0b907f2d5f954448a509f4c163c6fb31": {
     "model_module": "@jupyter-widgets/base",
     "model_module_version": "1.2.0",
     "model_name": "LayoutModel",
     "state": {
      "_model_module": "@jupyter-widgets/base",
      "_model_module_version": "1.2.0",
      "_model_name": "LayoutModel",
      "_view_count": null,
      "_view_module": "@jupyter-widgets/base",
      "_view_module_version": "1.2.0",
      "_view_name": "LayoutView",
      "align_content": null,
      "align_items": null,
      "align_self": null,
      "border": null,
      "bottom": null,
      "display": null,
      "flex": null,
      "flex_flow": null,
      "grid_area": null,
      "grid_auto_columns": null,
      "grid_auto_flow": null,
      "grid_auto_rows": null,
      "grid_column": null,
      "grid_gap": null,
      "grid_row": null,
      "grid_template_areas": null,
      "grid_template_columns": null,
      "grid_template_rows": null,
      "height": null,
      "justify_content": null,
      "justify_items": null,
      "left": null,
      "margin": null,
      "max_height": null,
      "max_width": null,
      "min_height": null,
      "min_width": null,
      "object_fit": null,
      "object_position": null,
      "order": null,
      "overflow": null,
      "overflow_x": null,
      "overflow_y": null,
      "padding": null,
      "right": null,
      "top": null,
      "visibility": null,
      "width": null
     }
    },
    "0bc9c86db25b4d4784551e4399be8af9": {
     "model_module": "@jupyter-widgets/controls",
     "model_module_version": "1.5.0",
     "model_name": "FloatProgressModel",
     "state": {
      "_dom_classes": [],
      "_model_module": "@jupyter-widgets/controls",
      "_model_module_version": "1.5.0",
      "_model_name": "FloatProgressModel",
      "_view_count": null,
      "_view_module": "@jupyter-widgets/controls",
      "_view_module_version": "1.5.0",
      "_view_name": "ProgressView",
      "bar_style": "success",
      "description": "",
      "description_tooltip": null,
      "layout": "IPY_MODEL_964fed86a92f42bd95520365d826c5e0",
      "max": 534,
      "min": 0,
      "orientation": "horizontal",
      "style": "IPY_MODEL_a6f133550cf24148b56c02bb05fa2f6a",
      "value": 534
     }
    },
    "11bc68d88aed4b008895ecaa56e24ace": {
     "model_module": "@jupyter-widgets/base",
     "model_module_version": "1.2.0",
     "model_name": "LayoutModel",
     "state": {
      "_model_module": "@jupyter-widgets/base",
      "_model_module_version": "1.2.0",
      "_model_name": "LayoutModel",
      "_view_count": null,
      "_view_module": "@jupyter-widgets/base",
      "_view_module_version": "1.2.0",
      "_view_name": "LayoutView",
      "align_content": null,
      "align_items": null,
      "align_self": null,
      "border": null,
      "bottom": null,
      "display": null,
      "flex": null,
      "flex_flow": null,
      "grid_area": null,
      "grid_auto_columns": null,
      "grid_auto_flow": null,
      "grid_auto_rows": null,
      "grid_column": null,
      "grid_gap": null,
      "grid_row": null,
      "grid_template_areas": null,
      "grid_template_columns": null,
      "grid_template_rows": null,
      "height": null,
      "justify_content": null,
      "justify_items": null,
      "left": null,
      "margin": null,
      "max_height": null,
      "max_width": null,
      "min_height": null,
      "min_width": null,
      "object_fit": null,
      "object_position": null,
      "order": null,
      "overflow": null,
      "overflow_x": null,
      "overflow_y": null,
      "padding": null,
      "right": null,
      "top": null,
      "visibility": null,
      "width": null
     }
    },
    "1d261cd4e996425dacbe1dd74cce37b5": {
     "model_module": "@jupyter-widgets/controls",
     "model_module_version": "1.5.0",
     "model_name": "DescriptionStyleModel",
     "state": {
      "_model_module": "@jupyter-widgets/controls",
      "_model_module_version": "1.5.0",
      "_model_name": "DescriptionStyleModel",
      "_view_count": null,
      "_view_module": "@jupyter-widgets/base",
      "_view_module_version": "1.2.0",
      "_view_name": "StyleView",
      "description_width": ""
     }
    },
    "23c50309f3e8406e8a1acfc0e7481725": {
     "model_module": "@jupyter-widgets/controls",
     "model_module_version": "1.5.0",
     "model_name": "DescriptionStyleModel",
     "state": {
      "_model_module": "@jupyter-widgets/controls",
      "_model_module_version": "1.5.0",
      "_model_name": "DescriptionStyleModel",
      "_view_count": null,
      "_view_module": "@jupyter-widgets/base",
      "_view_module_version": "1.2.0",
      "_view_name": "StyleView",
      "description_width": ""
     }
    },
    "26415064625c41e4ba27884de74ad3c1": {
     "model_module": "@jupyter-widgets/controls",
     "model_module_version": "1.5.0",
     "model_name": "HBoxModel",
     "state": {
      "_dom_classes": [],
      "_model_module": "@jupyter-widgets/controls",
      "_model_module_version": "1.5.0",
      "_model_name": "HBoxModel",
      "_view_count": null,
      "_view_module": "@jupyter-widgets/controls",
      "_view_module_version": "1.5.0",
      "_view_name": "HBoxView",
      "box_style": "",
      "children": [
       "IPY_MODEL_991f4dd7cedd4bf3b59125fcd6fdd3bc",
       "IPY_MODEL_f232d5bf63af4f71859d2a01dc3bda13",
       "IPY_MODEL_73638b95aca9413a95f1a1e3a81d554a"
      ],
      "layout": "IPY_MODEL_3ded4932290f471095611de7b7949ac5"
     }
    },
    "361aeeb73ce546deba41b2c707449c81": {
     "model_module": "@jupyter-widgets/base",
     "model_module_version": "1.2.0",
     "model_name": "LayoutModel",
     "state": {
      "_model_module": "@jupyter-widgets/base",
      "_model_module_version": "1.2.0",
      "_model_name": "LayoutModel",
      "_view_count": null,
      "_view_module": "@jupyter-widgets/base",
      "_view_module_version": "1.2.0",
      "_view_name": "LayoutView",
      "align_content": null,
      "align_items": null,
      "align_self": null,
      "border": null,
      "bottom": null,
      "display": null,
      "flex": null,
      "flex_flow": null,
      "grid_area": null,
      "grid_auto_columns": null,
      "grid_auto_flow": null,
      "grid_auto_rows": null,
      "grid_column": null,
      "grid_gap": null,
      "grid_row": null,
      "grid_template_areas": null,
      "grid_template_columns": null,
      "grid_template_rows": null,
      "height": null,
      "justify_content": null,
      "justify_items": null,
      "left": null,
      "margin": null,
      "max_height": null,
      "max_width": null,
      "min_height": null,
      "min_width": null,
      "object_fit": null,
      "object_position": null,
      "order": null,
      "overflow": null,
      "overflow_x": null,
      "overflow_y": null,
      "padding": null,
      "right": null,
      "top": null,
      "visibility": null,
      "width": null
     }
    },
    "3ded4932290f471095611de7b7949ac5": {
     "model_module": "@jupyter-widgets/base",
     "model_module_version": "1.2.0",
     "model_name": "LayoutModel",
     "state": {
      "_model_module": "@jupyter-widgets/base",
      "_model_module_version": "1.2.0",
      "_model_name": "LayoutModel",
      "_view_count": null,
      "_view_module": "@jupyter-widgets/base",
      "_view_module_version": "1.2.0",
      "_view_name": "LayoutView",
      "align_content": null,
      "align_items": null,
      "align_self": null,
      "border": null,
      "bottom": null,
      "display": null,
      "flex": null,
      "flex_flow": null,
      "grid_area": null,
      "grid_auto_columns": null,
      "grid_auto_flow": null,
      "grid_auto_rows": null,
      "grid_column": null,
      "grid_gap": null,
      "grid_row": null,
      "grid_template_areas": null,
      "grid_template_columns": null,
      "grid_template_rows": null,
      "height": null,
      "justify_content": null,
      "justify_items": null,
      "left": null,
      "margin": null,
      "max_height": null,
      "max_width": null,
      "min_height": null,
      "min_width": null,
      "object_fit": null,
      "object_position": null,
      "order": null,
      "overflow": null,
      "overflow_x": null,
      "overflow_y": null,
      "padding": null,
      "right": null,
      "top": null,
      "visibility": null,
      "width": null
     }
    },
    "3f66c9dfa3f34630953aff08432733ea": {
     "model_module": "@jupyter-widgets/base",
     "model_module_version": "1.2.0",
     "model_name": "LayoutModel",
     "state": {
      "_model_module": "@jupyter-widgets/base",
      "_model_module_version": "1.2.0",
      "_model_name": "LayoutModel",
      "_view_count": null,
      "_view_module": "@jupyter-widgets/base",
      "_view_module_version": "1.2.0",
      "_view_name": "LayoutView",
      "align_content": null,
      "align_items": null,
      "align_self": null,
      "border": null,
      "bottom": null,
      "display": null,
      "flex": null,
      "flex_flow": null,
      "grid_area": null,
      "grid_auto_columns": null,
      "grid_auto_flow": null,
      "grid_auto_rows": null,
      "grid_column": null,
      "grid_gap": null,
      "grid_row": null,
      "grid_template_areas": null,
      "grid_template_columns": null,
      "grid_template_rows": null,
      "height": null,
      "justify_content": null,
      "justify_items": null,
      "left": null,
      "margin": null,
      "max_height": null,
      "max_width": null,
      "min_height": null,
      "min_width": null,
      "object_fit": null,
      "object_position": null,
      "order": null,
      "overflow": null,
      "overflow_x": null,
      "overflow_y": null,
      "padding": null,
      "right": null,
      "top": null,
      "visibility": null,
      "width": null
     }
    },
    "40a547d95b144188a0356afed7dc0004": {
     "model_module": "@jupyter-widgets/controls",
     "model_module_version": "1.5.0",
     "model_name": "FloatProgressModel",
     "state": {
      "_dom_classes": [],
      "_model_module": "@jupyter-widgets/controls",
      "_model_module_version": "1.5.0",
      "_model_name": "FloatProgressModel",
      "_view_count": null,
      "_view_module": "@jupyter-widgets/controls",
      "_view_module_version": "1.5.0",
      "_view_name": "ProgressView",
      "bar_style": "success",
      "description": "",
      "description_tooltip": null,
      "layout": "IPY_MODEL_7b20fecf00794c2a906968a0ed70b23b",
      "max": 786216,
      "min": 0,
      "orientation": "horizontal",
      "style": "IPY_MODEL_8a19e7cbe28b43518bd792b1589a19f5",
      "value": 786216
     }
    },
    "490ea8eeea59494286d934e6be94097f": {
     "model_module": "@jupyter-widgets/controls",
     "model_module_version": "1.5.0",
     "model_name": "ProgressStyleModel",
     "state": {
      "_model_module": "@jupyter-widgets/controls",
      "_model_module_version": "1.5.0",
      "_model_name": "ProgressStyleModel",
      "_view_count": null,
      "_view_module": "@jupyter-widgets/base",
      "_view_module_version": "1.2.0",
      "_view_name": "StyleView",
      "bar_color": null,
      "description_width": ""
     }
    },
    "53db20b006214e55934d1625fe94a022": {
     "model_module": "@jupyter-widgets/base",
     "model_module_version": "1.2.0",
     "model_name": "LayoutModel",
     "state": {
      "_model_module": "@jupyter-widgets/base",
      "_model_module_version": "1.2.0",
      "_model_name": "LayoutModel",
      "_view_count": null,
      "_view_module": "@jupyter-widgets/base",
      "_view_module_version": "1.2.0",
      "_view_name": "LayoutView",
      "align_content": null,
      "align_items": null,
      "align_self": null,
      "border": null,
      "bottom": null,
      "display": null,
      "flex": null,
      "flex_flow": null,
      "grid_area": null,
      "grid_auto_columns": null,
      "grid_auto_flow": null,
      "grid_auto_rows": null,
      "grid_column": null,
      "grid_gap": null,
      "grid_row": null,
      "grid_template_areas": null,
      "grid_template_columns": null,
      "grid_template_rows": null,
      "height": null,
      "justify_content": null,
      "justify_items": null,
      "left": null,
      "margin": null,
      "max_height": null,
      "max_width": null,
      "min_height": null,
      "min_width": null,
      "object_fit": null,
      "object_position": null,
      "order": null,
      "overflow": null,
      "overflow_x": null,
      "overflow_y": null,
      "padding": null,
      "right": null,
      "top": null,
      "visibility": null,
      "width": null
     }
    },
    "65810ad6a9f44279a96cb8725b684e59": {
     "model_module": "@jupyter-widgets/controls",
     "model_module_version": "1.5.0",
     "model_name": "HTMLModel",
     "state": {
      "_dom_classes": [],
      "_model_module": "@jupyter-widgets/controls",
      "_model_module_version": "1.5.0",
      "_model_name": "HTMLModel",
      "_view_count": null,
      "_view_module": "@jupyter-widgets/controls",
      "_view_module_version": "1.5.0",
      "_view_name": "HTMLView",
      "description": "",
      "description_tooltip": null,
      "layout": "IPY_MODEL_0b907f2d5f954448a509f4c163c6fb31",
      "placeholder": "​",
      "style": "IPY_MODEL_8382309bb68048429dbfd346965da3f1",
      "value": " 284/284 [00:00&lt;00:00, 22.5kB/s]"
     }
    },
    "73638b95aca9413a95f1a1e3a81d554a": {
     "model_module": "@jupyter-widgets/controls",
     "model_module_version": "1.5.0",
     "model_name": "HTMLModel",
     "state": {
      "_dom_classes": [],
      "_model_module": "@jupyter-widgets/controls",
      "_model_module_version": "1.5.0",
      "_model_name": "HTMLModel",
      "_view_count": null,
      "_view_module": "@jupyter-widgets/controls",
      "_view_module_version": "1.5.0",
      "_view_name": "HTMLView",
      "description": "",
      "description_tooltip": null,
      "layout": "IPY_MODEL_b6a678163010435eaf0ef040b7e8c0d4",
      "placeholder": "​",
      "style": "IPY_MODEL_23c50309f3e8406e8a1acfc0e7481725",
      "value": " 7.37G/7.37G [00:24&lt;00:00, 405MB/s]"
     }
    },
    "7b20fecf00794c2a906968a0ed70b23b": {
     "model_module": "@jupyter-widgets/base",
     "model_module_version": "1.2.0",
     "model_name": "LayoutModel",
     "state": {
      "_model_module": "@jupyter-widgets/base",
      "_model_module_version": "1.2.0",
      "_model_name": "LayoutModel",
      "_view_count": null,
      "_view_module": "@jupyter-widgets/base",
      "_view_module_version": "1.2.0",
      "_view_name": "LayoutView",
      "align_content": null,
      "align_items": null,
      "align_self": null,
      "border": null,
      "bottom": null,
      "display": null,
      "flex": null,
      "flex_flow": null,
      "grid_area": null,
      "grid_auto_columns": null,
      "grid_auto_flow": null,
      "grid_auto_rows": null,
      "grid_column": null,
      "grid_gap": null,
      "grid_row": null,
      "grid_template_areas": null,
      "grid_template_columns": null,
      "grid_template_rows": null,
      "height": null,
      "justify_content": null,
      "justify_items": null,
      "left": null,
      "margin": null,
      "max_height": null,
      "max_width": null,
      "min_height": null,
      "min_width": null,
      "object_fit": null,
      "object_position": null,
      "order": null,
      "overflow": null,
      "overflow_x": null,
      "overflow_y": null,
      "padding": null,
      "right": null,
      "top": null,
      "visibility": null,
      "width": null
     }
    },
    "8382309bb68048429dbfd346965da3f1": {
     "model_module": "@jupyter-widgets/controls",
     "model_module_version": "1.5.0",
     "model_name": "DescriptionStyleModel",
     "state": {
      "_model_module": "@jupyter-widgets/controls",
      "_model_module_version": "1.5.0",
      "_model_name": "DescriptionStyleModel",
      "_view_count": null,
      "_view_module": "@jupyter-widgets/base",
      "_view_module_version": "1.2.0",
      "_view_name": "StyleView",
      "description_width": ""
     }
    },
    "863cef6bd58c4176b098bf0a47d4c46a": {
     "model_module": "@jupyter-widgets/base",
     "model_module_version": "1.2.0",
     "model_name": "LayoutModel",
     "state": {
      "_model_module": "@jupyter-widgets/base",
      "_model_module_version": "1.2.0",
      "_model_name": "LayoutModel",
      "_view_count": null,
      "_view_module": "@jupyter-widgets/base",
      "_view_module_version": "1.2.0",
      "_view_name": "LayoutView",
      "align_content": null,
      "align_items": null,
      "align_self": null,
      "border": null,
      "bottom": null,
      "display": null,
      "flex": null,
      "flex_flow": null,
      "grid_area": null,
      "grid_auto_columns": null,
      "grid_auto_flow": null,
      "grid_auto_rows": null,
      "grid_column": null,
      "grid_gap": null,
      "grid_row": null,
      "grid_template_areas": null,
      "grid_template_columns": null,
      "grid_template_rows": null,
      "height": null,
      "justify_content": null,
      "justify_items": null,
      "left": null,
      "margin": null,
      "max_height": null,
      "max_width": null,
      "min_height": null,
      "min_width": null,
      "object_fit": null,
      "object_position": null,
      "order": null,
      "overflow": null,
      "overflow_x": null,
      "overflow_y": null,
      "padding": null,
      "right": null,
      "top": null,
      "visibility": null,
      "width": null
     }
    },
    "895b0416699a45f6b327f8a786ab7aa2": {
     "model_module": "@jupyter-widgets/controls",
     "model_module_version": "1.5.0",
     "model_name": "HTMLModel",
     "state": {
      "_dom_classes": [],
      "_model_module": "@jupyter-widgets/controls",
      "_model_module_version": "1.5.0",
      "_model_name": "HTMLModel",
      "_view_count": null,
      "_view_module": "@jupyter-widgets/controls",
      "_view_module_version": "1.5.0",
      "_view_name": "HTMLView",
      "description": "",
      "description_tooltip": null,
      "layout": "IPY_MODEL_e3dde11694f3482e9dcecb428ec768f3",
      "placeholder": "​",
      "style": "IPY_MODEL_9a904df55bb040b790f64b6a819e453d",
      "value": "Downloading (…)okenizer_config.json: 100%"
     }
    },
    "8a19e7cbe28b43518bd792b1589a19f5": {
     "model_module": "@jupyter-widgets/controls",
     "model_module_version": "1.5.0",
     "model_name": "ProgressStyleModel",
     "state": {
      "_model_module": "@jupyter-widgets/controls",
      "_model_module_version": "1.5.0",
      "_model_name": "ProgressStyleModel",
      "_view_count": null,
      "_view_module": "@jupyter-widgets/base",
      "_view_module_version": "1.2.0",
      "_view_name": "StyleView",
      "bar_color": null,
      "description_width": ""
     }
    },
    "8e887d856a964da7883be9e4a59e43ce": {
     "model_module": "@jupyter-widgets/controls",
     "model_module_version": "1.5.0",
     "model_name": "HBoxModel",
     "state": {
      "_dom_classes": [],
      "_model_module": "@jupyter-widgets/controls",
      "_model_module_version": "1.5.0",
      "_model_name": "HBoxModel",
      "_view_count": null,
      "_view_module": "@jupyter-widgets/controls",
      "_view_module_version": "1.5.0",
      "_view_name": "HBoxView",
      "box_style": "",
      "children": [
       "IPY_MODEL_895b0416699a45f6b327f8a786ab7aa2",
       "IPY_MODEL_d574faf4d0a84441a405973374b40b44",
       "IPY_MODEL_65810ad6a9f44279a96cb8725b684e59"
      ],
      "layout": "IPY_MODEL_11bc68d88aed4b008895ecaa56e24ace"
     }
    },
    "964fed86a92f42bd95520365d826c5e0": {
     "model_module": "@jupyter-widgets/base",
     "model_module_version": "1.2.0",
     "model_name": "LayoutModel",
     "state": {
      "_model_module": "@jupyter-widgets/base",
      "_model_module_version": "1.2.0",
      "_model_name": "LayoutModel",
      "_view_count": null,
      "_view_module": "@jupyter-widgets/base",
      "_view_module_version": "1.2.0",
      "_view_name": "LayoutView",
      "align_content": null,
      "align_items": null,
      "align_self": null,
      "border": null,
      "bottom": null,
      "display": null,
      "flex": null,
      "flex_flow": null,
      "grid_area": null,
      "grid_auto_columns": null,
      "grid_auto_flow": null,
      "grid_auto_rows": null,
      "grid_column": null,
      "grid_gap": null,
      "grid_row": null,
      "grid_template_areas": null,
      "grid_template_columns": null,
      "grid_template_rows": null,
      "height": null,
      "justify_content": null,
      "justify_items": null,
      "left": null,
      "margin": null,
      "max_height": null,
      "max_width": null,
      "min_height": null,
      "min_width": null,
      "object_fit": null,
      "object_position": null,
      "order": null,
      "overflow": null,
      "overflow_x": null,
      "overflow_y": null,
      "padding": null,
      "right": null,
      "top": null,
      "visibility": null,
      "width": null
     }
    },
    "9668e31ba3834510a2dd7a72a541d8cd": {
     "model_module": "@jupyter-widgets/controls",
     "model_module_version": "1.5.0",
     "model_name": "HTMLModel",
     "state": {
      "_dom_classes": [],
      "_model_module": "@jupyter-widgets/controls",
      "_model_module_version": "1.5.0",
      "_model_name": "HTMLModel",
      "_view_count": null,
      "_view_module": "@jupyter-widgets/controls",
      "_view_module_version": "1.5.0",
      "_view_name": "HTMLView",
      "description": "",
      "description_tooltip": null,
      "layout": "IPY_MODEL_b16a50c87b574642aa17237cc1267839",
      "placeholder": "​",
      "style": "IPY_MODEL_9bb5d5b81091466d9185a63a972d70b5",
      "value": "Downloading spiece.model: 100%"
     }
    },
    "991f4dd7cedd4bf3b59125fcd6fdd3bc": {
     "model_module": "@jupyter-widgets/controls",
     "model_module_version": "1.5.0",
     "model_name": "HTMLModel",
     "state": {
      "_dom_classes": [],
      "_model_module": "@jupyter-widgets/controls",
      "_model_module_version": "1.5.0",
      "_model_name": "HTMLModel",
      "_view_count": null,
      "_view_module": "@jupyter-widgets/controls",
      "_view_module_version": "1.5.0",
      "_view_name": "HTMLView",
      "description": "",
      "description_tooltip": null,
      "layout": "IPY_MODEL_d35ca51590124a1693cee9184070c161",
      "placeholder": "​",
      "style": "IPY_MODEL_ba1d893935924669989ec5f29c577c8b",
      "value": "Downloading model.safetensors: 100%"
     }
    },
    "9a904df55bb040b790f64b6a819e453d": {
     "model_module": "@jupyter-widgets/controls",
     "model_module_version": "1.5.0",
     "model_name": "DescriptionStyleModel",
     "state": {
      "_model_module": "@jupyter-widgets/controls",
      "_model_module_version": "1.5.0",
      "_model_name": "DescriptionStyleModel",
      "_view_count": null,
      "_view_module": "@jupyter-widgets/base",
      "_view_module_version": "1.2.0",
      "_view_name": "StyleView",
      "description_width": ""
     }
    },
    "9b1a8c7c9bbb4ff08d10db103e2a5645": {
     "model_module": "@jupyter-widgets/controls",
     "model_module_version": "1.5.0",
     "model_name": "HBoxModel",
     "state": {
      "_dom_classes": [],
      "_model_module": "@jupyter-widgets/controls",
      "_model_module_version": "1.5.0",
      "_model_name": "HBoxModel",
      "_view_count": null,
      "_view_module": "@jupyter-widgets/controls",
      "_view_module_version": "1.5.0",
      "_view_name": "HBoxView",
      "box_style": "",
      "children": [
       "IPY_MODEL_9faf541cdea34a0ca60dad23a7e86a16",
       "IPY_MODEL_0bc9c86db25b4d4784551e4399be8af9",
       "IPY_MODEL_d51ce0b06814441796970e6a265a250b"
      ],
      "layout": "IPY_MODEL_863cef6bd58c4176b098bf0a47d4c46a"
     }
    },
    "9bb5d5b81091466d9185a63a972d70b5": {
     "model_module": "@jupyter-widgets/controls",
     "model_module_version": "1.5.0",
     "model_name": "DescriptionStyleModel",
     "state": {
      "_model_module": "@jupyter-widgets/controls",
      "_model_module_version": "1.5.0",
      "_model_name": "DescriptionStyleModel",
      "_view_count": null,
      "_view_module": "@jupyter-widgets/base",
      "_view_module_version": "1.2.0",
      "_view_name": "StyleView",
      "description_width": ""
     }
    },
    "9d1f09e352244a128d613fe7a3e63d8d": {
     "model_module": "@jupyter-widgets/controls",
     "model_module_version": "1.5.0",
     "model_name": "HTMLModel",
     "state": {
      "_dom_classes": [],
      "_model_module": "@jupyter-widgets/controls",
      "_model_module_version": "1.5.0",
      "_model_name": "HTMLModel",
      "_view_count": null,
      "_view_module": "@jupyter-widgets/controls",
      "_view_module_version": "1.5.0",
      "_view_name": "HTMLView",
      "description": "",
      "description_tooltip": null,
      "layout": "IPY_MODEL_f75333ea05d643f08334d70bd67e407a",
      "placeholder": "​",
      "style": "IPY_MODEL_f74c43c415a143bf9d0eb1451442c02c",
      "value": " 786k/786k [00:00&lt;00:00, 52.3MB/s]"
     }
    },
    "9faf541cdea34a0ca60dad23a7e86a16": {
     "model_module": "@jupyter-widgets/controls",
     "model_module_version": "1.5.0",
     "model_name": "HTMLModel",
     "state": {
      "_dom_classes": [],
      "_model_module": "@jupyter-widgets/controls",
      "_model_module_version": "1.5.0",
      "_model_name": "HTMLModel",
      "_view_count": null,
      "_view_module": "@jupyter-widgets/controls",
      "_view_module_version": "1.5.0",
      "_view_name": "HTMLView",
      "description": "",
      "description_tooltip": null,
      "layout": "IPY_MODEL_361aeeb73ce546deba41b2c707449c81",
      "placeholder": "​",
      "style": "IPY_MODEL_ed571f81390b4db6a234a869792d0242",
      "value": "Downloading (…)lve/main/config.json: 100%"
     }
    },
    "a6f133550cf24148b56c02bb05fa2f6a": {
     "model_module": "@jupyter-widgets/controls",
     "model_module_version": "1.5.0",
     "model_name": "ProgressStyleModel",
     "state": {
      "_model_module": "@jupyter-widgets/controls",
      "_model_module_version": "1.5.0",
      "_model_name": "ProgressStyleModel",
      "_view_count": null,
      "_view_module": "@jupyter-widgets/base",
      "_view_module_version": "1.2.0",
      "_view_name": "StyleView",
      "bar_color": null,
      "description_width": ""
     }
    },
    "b16a50c87b574642aa17237cc1267839": {
     "model_module": "@jupyter-widgets/base",
     "model_module_version": "1.2.0",
     "model_name": "LayoutModel",
     "state": {
      "_model_module": "@jupyter-widgets/base",
      "_model_module_version": "1.2.0",
      "_model_name": "LayoutModel",
      "_view_count": null,
      "_view_module": "@jupyter-widgets/base",
      "_view_module_version": "1.2.0",
      "_view_name": "LayoutView",
      "align_content": null,
      "align_items": null,
      "align_self": null,
      "border": null,
      "bottom": null,
      "display": null,
      "flex": null,
      "flex_flow": null,
      "grid_area": null,
      "grid_auto_columns": null,
      "grid_auto_flow": null,
      "grid_auto_rows": null,
      "grid_column": null,
      "grid_gap": null,
      "grid_row": null,
      "grid_template_areas": null,
      "grid_template_columns": null,
      "grid_template_rows": null,
      "height": null,
      "justify_content": null,
      "justify_items": null,
      "left": null,
      "margin": null,
      "max_height": null,
      "max_width": null,
      "min_height": null,
      "min_width": null,
      "object_fit": null,
      "object_position": null,
      "order": null,
      "overflow": null,
      "overflow_x": null,
      "overflow_y": null,
      "padding": null,
      "right": null,
      "top": null,
      "visibility": null,
      "width": null
     }
    },
    "b6a678163010435eaf0ef040b7e8c0d4": {
     "model_module": "@jupyter-widgets/base",
     "model_module_version": "1.2.0",
     "model_name": "LayoutModel",
     "state": {
      "_model_module": "@jupyter-widgets/base",
      "_model_module_version": "1.2.0",
      "_model_name": "LayoutModel",
      "_view_count": null,
      "_view_module": "@jupyter-widgets/base",
      "_view_module_version": "1.2.0",
      "_view_name": "LayoutView",
      "align_content": null,
      "align_items": null,
      "align_self": null,
      "border": null,
      "bottom": null,
      "display": null,
      "flex": null,
      "flex_flow": null,
      "grid_area": null,
      "grid_auto_columns": null,
      "grid_auto_flow": null,
      "grid_auto_rows": null,
      "grid_column": null,
      "grid_gap": null,
      "grid_row": null,
      "grid_template_areas": null,
      "grid_template_columns": null,
      "grid_template_rows": null,
      "height": null,
      "justify_content": null,
      "justify_items": null,
      "left": null,
      "margin": null,
      "max_height": null,
      "max_width": null,
      "min_height": null,
      "min_width": null,
      "object_fit": null,
      "object_position": null,
      "order": null,
      "overflow": null,
      "overflow_x": null,
      "overflow_y": null,
      "padding": null,
      "right": null,
      "top": null,
      "visibility": null,
      "width": null
     }
    },
    "ba1d893935924669989ec5f29c577c8b": {
     "model_module": "@jupyter-widgets/controls",
     "model_module_version": "1.5.0",
     "model_name": "DescriptionStyleModel",
     "state": {
      "_model_module": "@jupyter-widgets/controls",
      "_model_module_version": "1.5.0",
      "_model_name": "DescriptionStyleModel",
      "_view_count": null,
      "_view_module": "@jupyter-widgets/base",
      "_view_module_version": "1.2.0",
      "_view_name": "StyleView",
      "description_width": ""
     }
    },
    "c4e27245d47a438db12f4f6059e36711": {
     "model_module": "@jupyter-widgets/base",
     "model_module_version": "1.2.0",
     "model_name": "LayoutModel",
     "state": {
      "_model_module": "@jupyter-widgets/base",
      "_model_module_version": "1.2.0",
      "_model_name": "LayoutModel",
      "_view_count": null,
      "_view_module": "@jupyter-widgets/base",
      "_view_module_version": "1.2.0",
      "_view_name": "LayoutView",
      "align_content": null,
      "align_items": null,
      "align_self": null,
      "border": null,
      "bottom": null,
      "display": null,
      "flex": null,
      "flex_flow": null,
      "grid_area": null,
      "grid_auto_columns": null,
      "grid_auto_flow": null,
      "grid_auto_rows": null,
      "grid_column": null,
      "grid_gap": null,
      "grid_row": null,
      "grid_template_areas": null,
      "grid_template_columns": null,
      "grid_template_rows": null,
      "height": null,
      "justify_content": null,
      "justify_items": null,
      "left": null,
      "margin": null,
      "max_height": null,
      "max_width": null,
      "min_height": null,
      "min_width": null,
      "object_fit": null,
      "object_position": null,
      "order": null,
      "overflow": null,
      "overflow_x": null,
      "overflow_y": null,
      "padding": null,
      "right": null,
      "top": null,
      "visibility": null,
      "width": null
     }
    },
    "d35ca51590124a1693cee9184070c161": {
     "model_module": "@jupyter-widgets/base",
     "model_module_version": "1.2.0",
     "model_name": "LayoutModel",
     "state": {
      "_model_module": "@jupyter-widgets/base",
      "_model_module_version": "1.2.0",
      "_model_name": "LayoutModel",
      "_view_count": null,
      "_view_module": "@jupyter-widgets/base",
      "_view_module_version": "1.2.0",
      "_view_name": "LayoutView",
      "align_content": null,
      "align_items": null,
      "align_self": null,
      "border": null,
      "bottom": null,
      "display": null,
      "flex": null,
      "flex_flow": null,
      "grid_area": null,
      "grid_auto_columns": null,
      "grid_auto_flow": null,
      "grid_auto_rows": null,
      "grid_column": null,
      "grid_gap": null,
      "grid_row": null,
      "grid_template_areas": null,
      "grid_template_columns": null,
      "grid_template_rows": null,
      "height": null,
      "justify_content": null,
      "justify_items": null,
      "left": null,
      "margin": null,
      "max_height": null,
      "max_width": null,
      "min_height": null,
      "min_width": null,
      "object_fit": null,
      "object_position": null,
      "order": null,
      "overflow": null,
      "overflow_x": null,
      "overflow_y": null,
      "padding": null,
      "right": null,
      "top": null,
      "visibility": null,
      "width": null
     }
    },
    "d51ce0b06814441796970e6a265a250b": {
     "model_module": "@jupyter-widgets/controls",
     "model_module_version": "1.5.0",
     "model_name": "HTMLModel",
     "state": {
      "_dom_classes": [],
      "_model_module": "@jupyter-widgets/controls",
      "_model_module_version": "1.5.0",
      "_model_name": "HTMLModel",
      "_view_count": null,
      "_view_module": "@jupyter-widgets/controls",
      "_view_module_version": "1.5.0",
      "_view_name": "HTMLView",
      "description": "",
      "description_tooltip": null,
      "layout": "IPY_MODEL_53db20b006214e55934d1625fe94a022",
      "placeholder": "​",
      "style": "IPY_MODEL_1d261cd4e996425dacbe1dd74cce37b5",
      "value": " 534/534 [00:00&lt;00:00, 40.7kB/s]"
     }
    },
    "d574faf4d0a84441a405973374b40b44": {
     "model_module": "@jupyter-widgets/controls",
     "model_module_version": "1.5.0",
     "model_name": "FloatProgressModel",
     "state": {
      "_dom_classes": [],
      "_model_module": "@jupyter-widgets/controls",
      "_model_module_version": "1.5.0",
      "_model_name": "FloatProgressModel",
      "_view_count": null,
      "_view_module": "@jupyter-widgets/controls",
      "_view_module_version": "1.5.0",
      "_view_name": "ProgressView",
      "bar_style": "success",
      "description": "",
      "description_tooltip": null,
      "layout": "IPY_MODEL_efbaaa5fb86a4a5696a9831a8729fc17",
      "max": 284,
      "min": 0,
      "orientation": "horizontal",
      "style": "IPY_MODEL_0200907b89844da7b286eb492686d017",
      "value": 284
     }
    },
    "e3dde11694f3482e9dcecb428ec768f3": {
     "model_module": "@jupyter-widgets/base",
     "model_module_version": "1.2.0",
     "model_name": "LayoutModel",
     "state": {
      "_model_module": "@jupyter-widgets/base",
      "_model_module_version": "1.2.0",
      "_model_name": "LayoutModel",
      "_view_count": null,
      "_view_module": "@jupyter-widgets/base",
      "_view_module_version": "1.2.0",
      "_view_name": "LayoutView",
      "align_content": null,
      "align_items": null,
      "align_self": null,
      "border": null,
      "bottom": null,
      "display": null,
      "flex": null,
      "flex_flow": null,
      "grid_area": null,
      "grid_auto_columns": null,
      "grid_auto_flow": null,
      "grid_auto_rows": null,
      "grid_column": null,
      "grid_gap": null,
      "grid_row": null,
      "grid_template_areas": null,
      "grid_template_columns": null,
      "grid_template_rows": null,
      "height": null,
      "justify_content": null,
      "justify_items": null,
      "left": null,
      "margin": null,
      "max_height": null,
      "max_width": null,
      "min_height": null,
      "min_width": null,
      "object_fit": null,
      "object_position": null,
      "order": null,
      "overflow": null,
      "overflow_x": null,
      "overflow_y": null,
      "padding": null,
      "right": null,
      "top": null,
      "visibility": null,
      "width": null
     }
    },
    "ed571f81390b4db6a234a869792d0242": {
     "model_module": "@jupyter-widgets/controls",
     "model_module_version": "1.5.0",
     "model_name": "DescriptionStyleModel",
     "state": {
      "_model_module": "@jupyter-widgets/controls",
      "_model_module_version": "1.5.0",
      "_model_name": "DescriptionStyleModel",
      "_view_count": null,
      "_view_module": "@jupyter-widgets/base",
      "_view_module_version": "1.2.0",
      "_view_name": "StyleView",
      "description_width": ""
     }
    },
    "efbaaa5fb86a4a5696a9831a8729fc17": {
     "model_module": "@jupyter-widgets/base",
     "model_module_version": "1.2.0",
     "model_name": "LayoutModel",
     "state": {
      "_model_module": "@jupyter-widgets/base",
      "_model_module_version": "1.2.0",
      "_model_name": "LayoutModel",
      "_view_count": null,
      "_view_module": "@jupyter-widgets/base",
      "_view_module_version": "1.2.0",
      "_view_name": "LayoutView",
      "align_content": null,
      "align_items": null,
      "align_self": null,
      "border": null,
      "bottom": null,
      "display": null,
      "flex": null,
      "flex_flow": null,
      "grid_area": null,
      "grid_auto_columns": null,
      "grid_auto_flow": null,
      "grid_auto_rows": null,
      "grid_column": null,
      "grid_gap": null,
      "grid_row": null,
      "grid_template_areas": null,
      "grid_template_columns": null,
      "grid_template_rows": null,
      "height": null,
      "justify_content": null,
      "justify_items": null,
      "left": null,
      "margin": null,
      "max_height": null,
      "max_width": null,
      "min_height": null,
      "min_width": null,
      "object_fit": null,
      "object_position": null,
      "order": null,
      "overflow": null,
      "overflow_x": null,
      "overflow_y": null,
      "padding": null,
      "right": null,
      "top": null,
      "visibility": null,
      "width": null
     }
    },
    "f232d5bf63af4f71859d2a01dc3bda13": {
     "model_module": "@jupyter-widgets/controls",
     "model_module_version": "1.5.0",
     "model_name": "FloatProgressModel",
     "state": {
      "_dom_classes": [],
      "_model_module": "@jupyter-widgets/controls",
      "_model_module_version": "1.5.0",
      "_model_name": "FloatProgressModel",
      "_view_count": null,
      "_view_module": "@jupyter-widgets/controls",
      "_view_module_version": "1.5.0",
      "_view_name": "ProgressView",
      "bar_style": "success",
      "description": "",
      "description_tooltip": null,
      "layout": "IPY_MODEL_c4e27245d47a438db12f4f6059e36711",
      "max": 7365554624,
      "min": 0,
      "orientation": "horizontal",
      "style": "IPY_MODEL_490ea8eeea59494286d934e6be94097f",
      "value": 7365554624
     }
    },
    "f74c43c415a143bf9d0eb1451442c02c": {
     "model_module": "@jupyter-widgets/controls",
     "model_module_version": "1.5.0",
     "model_name": "DescriptionStyleModel",
     "state": {
      "_model_module": "@jupyter-widgets/controls",
      "_model_module_version": "1.5.0",
      "_model_name": "DescriptionStyleModel",
      "_view_count": null,
      "_view_module": "@jupyter-widgets/base",
      "_view_module_version": "1.2.0",
      "_view_name": "StyleView",
      "description_width": ""
     }
    },
    "f75333ea05d643f08334d70bd67e407a": {
     "model_module": "@jupyter-widgets/base",
     "model_module_version": "1.2.0",
     "model_name": "LayoutModel",
     "state": {
      "_model_module": "@jupyter-widgets/base",
      "_model_module_version": "1.2.0",
      "_model_name": "LayoutModel",
      "_view_count": null,
      "_view_module": "@jupyter-widgets/base",
      "_view_module_version": "1.2.0",
      "_view_name": "LayoutView",
      "align_content": null,
      "align_items": null,
      "align_self": null,
      "border": null,
      "bottom": null,
      "display": null,
      "flex": null,
      "flex_flow": null,
      "grid_area": null,
      "grid_auto_columns": null,
      "grid_auto_flow": null,
      "grid_auto_rows": null,
      "grid_column": null,
      "grid_gap": null,
      "grid_row": null,
      "grid_template_areas": null,
      "grid_template_columns": null,
      "grid_template_rows": null,
      "height": null,
      "justify_content": null,
      "justify_items": null,
      "left": null,
      "margin": null,
      "max_height": null,
      "max_width": null,
      "min_height": null,
      "min_width": null,
      "object_fit": null,
      "object_position": null,
      "order": null,
      "overflow": null,
      "overflow_x": null,
      "overflow_y": null,
      "padding": null,
      "right": null,
      "top": null,
      "visibility": null,
      "width": null
     }
    }
   }
  }
 },
 "nbformat": 4,
 "nbformat_minor": 0
}
